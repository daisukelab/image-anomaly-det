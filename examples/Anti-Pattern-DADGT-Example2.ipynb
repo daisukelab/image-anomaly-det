{
 "cells": [
  {
   "cell_type": "markdown",
   "metadata": {},
   "source": [
    "# Anti-Pattern DADGT Example 2\n",
    "\n",
    "JPG vs PNG\n",
    "\n",
    "Case 2, image size is 256 x 256."
   ]
  },
  {
   "cell_type": "code",
   "execution_count": 1,
   "metadata": {},
   "outputs": [
    {
     "name": "stdout",
     "output_type": "stream",
     "text": [
      "GPU： cuda:0\n"
     ]
    }
   ],
   "source": [
    "from dlcliche.notebook import *\n",
    "from dlcliche.utils import *\n",
    "sys.path.append('..')\n",
    "from dadgt.dadgt_utils import *\n",
    "\n",
    "deterministic_everything(1234, pytorch=True)\n",
    "device = torch.device(\"cuda:0\" if torch.cuda.is_available() else \"cpu\")\n",
    "print('GPU：', device)\n",
    "\n",
    "ORG = Path('/data/mvtec_ad/original/transistor')\n",
    "\n",
    "ensure_delete('temp')"
   ]
  },
  {
   "cell_type": "code",
   "execution_count": 2,
   "metadata": {},
   "outputs": [],
   "source": [
    "class GeoTfm4Dataset(GeoTfmDataset):\n",
    "    geo_tfms = list(product(\n",
    "        [None], \n",
    "        [None, Image.ROTATE_90, Image.ROTATE_180, Image.ROTATE_270],\n",
    "        [None]\n",
    "    ))\n",
    "\n",
    "SIZE = 256\n",
    "params = EasyDict()\n",
    "params.fit = {}\n",
    "params.fit.validation_split = 0.1\n",
    "params.fit.lr = 0.003\n",
    "params.fit.b1 = 0.95\n",
    "params.fit.b2 = 0.999\n",
    "params.fit.weight_decay = 0.0\n",
    "params.fit.batch_size = 64\n",
    "params.fit.epochs = 50\n",
    "params.load_size = SIZE + (SIZE // 50)\n",
    "params.crop_size = SIZE\n",
    "params.work_folder = 'temp/work'\n",
    "params.suffix = '.png'\n",
    "params.project = f'Transistor-GT4-{SIZE}'\n",
    "params.ds_cls = GeoTfm4Dataset\n",
    "params.n_class = params.ds_cls.n_tfm()"
   ]
  },
  {
   "cell_type": "code",
   "execution_count": 3,
   "metadata": {},
   "outputs": [],
   "source": [
    "def make_resized_files(src_files, dest_folder, suffix, load_size):\n",
    "    dest_folder = Path(dest_folder)\n",
    "    # ensure_delete(dest_folder)\n",
    "    ensure_folder(dest_folder)\n",
    "\n",
    "    files = []\n",
    "    for file_name in src_files:\n",
    "        img = Image.open(file_name)\n",
    "        img = img.convert('RGB').resize((load_size, load_size))\n",
    "        new_file_name = dest_folder/f'{Path(file_name).stem}{suffix}'\n",
    "        if suffix == '.jpg':\n",
    "            img.save(new_file_name) #, quality=30)\n",
    "        else:\n",
    "            img.save(new_file_name)\n",
    "        files.append(new_file_name)\n",
    "    return files\n",
    "\n",
    "train_files = make_resized_files((ORG/'train/good').glob('*.png'), dest_folder='temp/train', suffix='.jpg', load_size=params.load_size)"
   ]
  },
  {
   "cell_type": "code",
   "execution_count": 4,
   "metadata": {},
   "outputs": [],
   "source": [
    "test_good = make_resized_files((ORG/'test/good').glob('*.png'), dest_folder='temp/test/good',\n",
    "                               suffix='.jpg', load_size=params.load_size)\n",
    "test_bend = make_resized_files((ORG/'test/bent_lead').glob('*.png'), dest_folder='temp/test/bend',\n",
    "                               suffix='.png', load_size=params.load_size)\n",
    "test_cut = make_resized_files((ORG/'test/cut_lead').glob('*.png'), dest_folder='temp/test/cut',\n",
    "                               suffix='.png', load_size=params.load_size)\n",
    "test_damaged = make_resized_files((ORG/'test/damaged_case').glob('*.png'), dest_folder='temp/test/damaged',\n",
    "                               suffix='.png', load_size=params.load_size)"
   ]
  },
  {
   "cell_type": "code",
   "execution_count": 5,
   "metadata": {},
   "outputs": [
    {
     "name": "stdout",
     "output_type": "stream",
     "text": [
      "bent_lead  cut_lead  damaged_case  good  misplaced\r\n"
     ]
    }
   ],
   "source": [
    "!ls {ORG/'test'}"
   ]
  },
  {
   "cell_type": "code",
   "execution_count": 6,
   "metadata": {},
   "outputs": [
    {
     "name": "stdout",
     "output_type": "stream",
     "text": [
      "torch.Size([64, 3, 256, 256]) torch.Size([64]) 852 14 4\n"
     ]
    }
   ],
   "source": [
    "train_dataset = params.ds_cls(file_list=train_files, load_size=params.load_size, crop_size=params.crop_size,\n",
    "                                transform=ImageTransform(), random=True)\n",
    "train_dataloader = torch.utils.data.DataLoader(train_dataset, batch_size=params.fit.batch_size, shuffle=True)\n",
    "\n",
    "# Check\n",
    "batch_iterator = iter(train_dataloader)\n",
    "imgs, labels = next(batch_iterator)\n",
    "print(imgs.size(), labels.size(), len(train_dataset), len(train_dataloader), len(train_dataset.classes()))\n",
    "del train_dataset, train_dataloader"
   ]
  },
  {
   "cell_type": "code",
   "execution_count": 7,
   "metadata": {},
   "outputs": [],
   "source": [
    "#plt_tiled_imshow(imgs[:10], [str(l) for l in labels.detach().cpu().numpy()])"
   ]
  },
  {
   "cell_type": "code",
   "execution_count": null,
   "metadata": {},
   "outputs": [],
   "source": [
    "model = create_model(device, params.n_class, weight_file=None)\n",
    "learner = TrainingScheme(device, model, params, train_files, params.ds_cls)\n",
    "\n",
    "trainer = pl.Trainer(max_epochs=params.fit.epochs, gpus=torch.cuda.device_count(), show_progress_bar=False)\n",
    "trainer.fit(learner);"
   ]
  },
  {
   "cell_type": "markdown",
   "metadata": {},
   "source": [
    "## Test\n",
    "\n",
    "- Good: jpg\n",
    "- Others: png"
   ]
  },
  {
   "cell_type": "code",
   "execution_count": 9,
   "metadata": {},
   "outputs": [
    {
     "data": {
      "text/plain": [
       "0.9002777777777778"
      ]
     },
     "execution_count": 9,
     "metadata": {},
     "output_type": "execute_result"
    }
   ],
   "source": [
    "test_files = test_good + test_bend + test_cut + test_damaged\n",
    "labels = np.array([0] * len(test_good) + [1] * len(test_bend) + [1] * len(test_cut) + [1] * len(test_damaged))\n",
    "auc, ns = GeoTfmEval.calc(device, learner, test_files, labels, params.n_class)\n",
    "auc"
   ]
  },
  {
   "cell_type": "code",
   "execution_count": 10,
   "metadata": {},
   "outputs": [
    {
     "data": {
      "text/html": [
       "<div>\n",
       "<style scoped>\n",
       "    .dataframe tbody tr th:only-of-type {\n",
       "        vertical-align: middle;\n",
       "    }\n",
       "\n",
       "    .dataframe tbody tr th {\n",
       "        vertical-align: top;\n",
       "    }\n",
       "\n",
       "    .dataframe thead th {\n",
       "        text-align: right;\n",
       "    }\n",
       "</style>\n",
       "<table border=\"1\" class=\"dataframe\">\n",
       "  <thead>\n",
       "    <tr style=\"text-align: right;\">\n",
       "      <th></th>\n",
       "      <th>count</th>\n",
       "      <th>mean</th>\n",
       "      <th>std</th>\n",
       "      <th>min</th>\n",
       "      <th>25%</th>\n",
       "      <th>50%</th>\n",
       "      <th>75%</th>\n",
       "      <th>max</th>\n",
       "    </tr>\n",
       "  </thead>\n",
       "  <tbody>\n",
       "    <tr>\n",
       "      <th>0</th>\n",
       "      <td>90.0</td>\n",
       "      <td>0.999986</td>\n",
       "      <td>0.000022</td>\n",
       "      <td>0.999856</td>\n",
       "      <td>0.999988</td>\n",
       "      <td>0.999993</td>\n",
       "      <td>0.999995</td>\n",
       "      <td>0.999997</td>\n",
       "    </tr>\n",
       "  </tbody>\n",
       "</table>\n",
       "</div>"
      ],
      "text/plain": [
       "   count      mean       std       min       25%       50%       75%       max\n",
       "0   90.0  0.999986  0.000022  0.999856  0.999988  0.999993  0.999995  0.999997"
      ]
     },
     "execution_count": 10,
     "metadata": {},
     "output_type": "execute_result"
    }
   ],
   "source": [
    "from dlcliche.math import np_describe\n",
    "np_describe(np.array(ns))"
   ]
  },
  {
   "cell_type": "markdown",
   "metadata": {},
   "source": [
    "## Test case 2\n",
    "\n",
    "- Good: jpg\n",
    "- Others: jpg"
   ]
  },
  {
   "cell_type": "code",
   "execution_count": 11,
   "metadata": {},
   "outputs": [
    {
     "data": {
      "text/plain": [
       "0.8947222222222222"
      ]
     },
     "execution_count": 11,
     "metadata": {},
     "output_type": "execute_result"
    }
   ],
   "source": [
    "test2_good = make_resized_files((ORG/'test/good').glob('*.png'), dest_folder='temp/test2/good',\n",
    "                               suffix='.jpg', load_size=params.load_size)\n",
    "test2_bend = make_resized_files((ORG/'test/bent_lead').glob('*.png'), dest_folder='temp/test2/bend',\n",
    "                               suffix='.jpg', load_size=params.load_size)\n",
    "test2_cut = make_resized_files((ORG/'test/cut_lead').glob('*.png'), dest_folder='temp/test2/cut',\n",
    "                               suffix='.jpg', load_size=params.load_size)\n",
    "test2_damaged = make_resized_files((ORG/'test/damaged_case').glob('*.png'), dest_folder='temp/test2/damaged',\n",
    "                               suffix='.jpg', load_size=params.load_size)\n",
    "\n",
    "test2_files = test2_good + test2_bend + test2_cut + test2_damaged\n",
    "labels = np.array([0] * len(test2_good) + [1] * len(test2_bend) + [1] * len(test2_cut) + [1] * len(test2_damaged))\n",
    "auc, ns = GeoTfmEval.calc(device, learner, test2_files, labels, params.n_class)\n",
    "auc"
   ]
  },
  {
   "cell_type": "code",
   "execution_count": 12,
   "metadata": {},
   "outputs": [
    {
     "data": {
      "text/html": [
       "<div>\n",
       "<style scoped>\n",
       "    .dataframe tbody tr th:only-of-type {\n",
       "        vertical-align: middle;\n",
       "    }\n",
       "\n",
       "    .dataframe tbody tr th {\n",
       "        vertical-align: top;\n",
       "    }\n",
       "\n",
       "    .dataframe thead th {\n",
       "        text-align: right;\n",
       "    }\n",
       "</style>\n",
       "<table border=\"1\" class=\"dataframe\">\n",
       "  <thead>\n",
       "    <tr style=\"text-align: right;\">\n",
       "      <th></th>\n",
       "      <th>count</th>\n",
       "      <th>mean</th>\n",
       "      <th>std</th>\n",
       "      <th>min</th>\n",
       "      <th>25%</th>\n",
       "      <th>50%</th>\n",
       "      <th>75%</th>\n",
       "      <th>max</th>\n",
       "    </tr>\n",
       "  </thead>\n",
       "  <tbody>\n",
       "    <tr>\n",
       "      <th>0</th>\n",
       "      <td>90.0</td>\n",
       "      <td>0.999986</td>\n",
       "      <td>0.000022</td>\n",
       "      <td>0.999854</td>\n",
       "      <td>0.999988</td>\n",
       "      <td>0.999993</td>\n",
       "      <td>0.999995</td>\n",
       "      <td>0.999997</td>\n",
       "    </tr>\n",
       "  </tbody>\n",
       "</table>\n",
       "</div>"
      ],
      "text/plain": [
       "   count      mean       std       min       25%       50%       75%       max\n",
       "0   90.0  0.999986  0.000022  0.999854  0.999988  0.999993  0.999995  0.999997"
      ]
     },
     "execution_count": 12,
     "metadata": {},
     "output_type": "execute_result"
    }
   ],
   "source": [
    "np_describe(np.array(ns))"
   ]
  },
  {
   "cell_type": "markdown",
   "metadata": {},
   "source": [
    "## Test case 3\n",
    "\n",
    "- Good: png\n",
    "- Others: png\n",
    "\n",
    "All test files are .png, though trained with .jpg files."
   ]
  },
  {
   "cell_type": "code",
   "execution_count": 13,
   "metadata": {},
   "outputs": [
    {
     "data": {
      "text/plain": [
       "0.8733333333333334"
      ]
     },
     "execution_count": 13,
     "metadata": {},
     "output_type": "execute_result"
    }
   ],
   "source": [
    "test3_good = make_resized_files((ORG/'test/good').glob('*.png'), dest_folder='temp/test3/good',\n",
    "                               suffix='.png', load_size=params.load_size)\n",
    "test3_bend = make_resized_files((ORG/'test/bent_lead').glob('*.png'), dest_folder='temp/test3/bend',\n",
    "                               suffix='.png', load_size=params.load_size)\n",
    "test3_cut = make_resized_files((ORG/'test/cut_lead').glob('*.png'), dest_folder='temp/test3/cut',\n",
    "                               suffix='.png', load_size=params.load_size)\n",
    "test3_damaged = make_resized_files((ORG/'test/damaged_case').glob('*.png'), dest_folder='temp/test3/damaged',\n",
    "                               suffix='.png', load_size=params.load_size)\n",
    "test3_files = test3_good + test3_bend + test3_cut + test3_damaged\n",
    "labels = np.array([0] * len(test3_good) + [1] * len(test3_bend) + [1] * len(test3_cut) + [1] * len(test3_damaged))\n",
    "auc, ns = GeoTfmEval.calc(device, learner, test3_files, labels, params.n_class)\n",
    "auc"
   ]
  },
  {
   "cell_type": "code",
   "execution_count": 14,
   "metadata": {},
   "outputs": [
    {
     "data": {
      "text/html": [
       "<div>\n",
       "<style scoped>\n",
       "    .dataframe tbody tr th:only-of-type {\n",
       "        vertical-align: middle;\n",
       "    }\n",
       "\n",
       "    .dataframe tbody tr th {\n",
       "        vertical-align: top;\n",
       "    }\n",
       "\n",
       "    .dataframe thead th {\n",
       "        text-align: right;\n",
       "    }\n",
       "</style>\n",
       "<table border=\"1\" class=\"dataframe\">\n",
       "  <thead>\n",
       "    <tr style=\"text-align: right;\">\n",
       "      <th></th>\n",
       "      <th>count</th>\n",
       "      <th>mean</th>\n",
       "      <th>std</th>\n",
       "      <th>min</th>\n",
       "      <th>25%</th>\n",
       "      <th>50%</th>\n",
       "      <th>75%</th>\n",
       "      <th>max</th>\n",
       "    </tr>\n",
       "  </thead>\n",
       "  <tbody>\n",
       "    <tr>\n",
       "      <th>0</th>\n",
       "      <td>90.0</td>\n",
       "      <td>0.999986</td>\n",
       "      <td>0.000022</td>\n",
       "      <td>0.999856</td>\n",
       "      <td>0.999988</td>\n",
       "      <td>0.999992</td>\n",
       "      <td>0.999994</td>\n",
       "      <td>0.999996</td>\n",
       "    </tr>\n",
       "  </tbody>\n",
       "</table>\n",
       "</div>"
      ],
      "text/plain": [
       "   count      mean       std       min       25%       50%       75%       max\n",
       "0   90.0  0.999986  0.000022  0.999856  0.999988  0.999992  0.999994  0.999996"
      ]
     },
     "execution_count": 14,
     "metadata": {},
     "output_type": "execute_result"
    }
   ],
   "source": [
    "np_describe(np.array(ns))"
   ]
  },
  {
   "cell_type": "code",
   "execution_count": null,
   "metadata": {},
   "outputs": [],
   "source": []
  }
 ],
 "metadata": {
  "kernelspec": {
   "display_name": "Python 3",
   "language": "python",
   "name": "python3"
  },
  "language_info": {
   "codemirror_mode": {
    "name": "ipython",
    "version": 3
   },
   "file_extension": ".py",
   "mimetype": "text/x-python",
   "name": "python",
   "nbconvert_exporter": "python",
   "pygments_lexer": "ipython3",
   "version": "3.7.5"
  }
 },
 "nbformat": 4,
 "nbformat_minor": 2
}
